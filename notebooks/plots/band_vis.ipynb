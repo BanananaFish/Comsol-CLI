{
 "cells": [
  {
   "cell_type": "code",
   "execution_count": 20,
   "metadata": {},
   "outputs": [],
   "source": [
    "import pandas as pd\n",
    "from scipy.interpolate import BarycentricInterpolator\n",
    "import numpy as np\n",
    "from matplotlib import pyplot as plt\n",
    "from matplotlib.patches import Rectangle\n",
    "from config import fontsize"
   ]
  },
  {
   "cell_type": "code",
   "execution_count": 2,
   "metadata": {},
   "outputs": [],
   "source": [
    "plt.rcParams[\"legend.fontsize\"] = 'large'\n",
    "plt.rcParams[\"font.family\"] = 'Times New Roman'"
   ]
  },
  {
   "cell_type": "code",
   "execution_count": 3,
   "metadata": {},
   "outputs": [],
   "source": [
    "bands = [pd.read_csv(f\"bands/能带示例{i}.csv\") for i in range(1, 4)]"
   ]
  },
  {
   "cell_type": "code",
   "execution_count": 4,
   "metadata": {},
   "outputs": [],
   "source": [
    "bands[2].频率 = bands[2].频率 * 0.9"
   ]
  },
  {
   "cell_type": "code",
   "execution_count": 5,
   "metadata": {},
   "outputs": [],
   "source": [
    "def split_band_lines(band, bs=21):\n",
    "    x = band.X.to_list()\n",
    "    y = band.频率.to_list()\n",
    "\n",
    "    x_groups = [x[i: i + bs] for i in range(0, len(x), bs)][:5]\n",
    "    y_groups = [y[i: i + bs] for i in range(0, len(y), bs)][:5]\n",
    "\n",
    "    return x_groups, y_groups"
   ]
  },
  {
   "cell_type": "code",
   "execution_count": 6,
   "metadata": {},
   "outputs": [],
   "source": [
    "def interpolate_band(x, y):\n",
    "    interpolators = [BarycentricInterpolator(xi, yi) for xi, yi in zip(x, y)]\n",
    "    x_new = np.linspace(0, max(x), 1000)\n",
    "    y_new = [interpolator(x_new) for interpolator in interpolators]\n",
    "    return x_new, y_new"
   ]
  },
  {
   "cell_type": "code",
   "execution_count": 48,
   "metadata": {},
   "outputs": [],
   "source": [
    "def plot_band(band, name=\"0\", with_labels=False):\n",
    "    fig, ax = plt.subplots(figsize=(1.5, 4))\n",
    "    x, y = split_band_lines(band)\n",
    "    x_new, y_new = interpolate_band(x, y)\n",
    "    color_list = [\"#2E54A1\", \"#2E54A1\", \"#249087\", \"#249087\", \"#FF0000\", ]\n",
    "    if with_labels:\n",
    "        ax.yaxis.set_label_position(\"right\")\n",
    "        ax.set_ylabel('Frequency (Hz)', fontsize=fontsize)\n",
    "    else:\n",
    "        ax.set_ylabel(' ', fontsize=fontsize)\n",
    "    prev = None\n",
    "    ax.plot([0, 1.4], [3500, 3500], linestyle='--', color='orange')\n",
    "    for i, (xi, yi) in enumerate(zip(x, y_new)):\n",
    "        print(prev)\n",
    "        if prev:\n",
    "            rx, ry = 0, prev[1]\n",
    "            w, h = prev[0], min(yi[-1]) - prev[1]\n",
    "            if h > 500 and ry + h < 6500:\n",
    "                rect = Rectangle((rx, ry), w, h, color='blue', alpha=0.5)\n",
    "                ax.add_patch(rect)\n",
    "                # ax.text(rx + w / 2, ry + h / 2, \"Band Gap\", ha='center', va='center', fontsize=fontsize)\n",
    "        prev = (x_new[-1][-1], yi[-1][-1])\n",
    "        ax.plot(x_new, yi, linestyle='-', color=color_list[i])\n",
    "    ax.set_xlim(0, 1.4)\n",
    "    ax.set_ylim(0, 6500)\n",
    "    ax.set_yticks([0, 6500])\n",
    "    # ax.xaxis.set_visible(False)\n",
    "    ax.set_xticks([])\n",
    "    # ax.yaxis.set_visible(False)\n",
    "    ax.text(1, -0.052, \"X\", ha='right', va='center', transform=ax.transAxes, fontsize=fontsize)\n",
    "    ax.set_xlabel('Γ', loc=\"left\", fontsize=fontsize)\n",
    "\n",
    "    ax.grid(False)\n",
    "    plt.tight_layout()\n",
    "    plt.savefig(f\"figures/{name}.svg\")\n",
    "    plt.show()\n",
    "    "
   ]
  },
  {
   "cell_type": "code",
   "execution_count": 49,
   "metadata": {},
   "outputs": [
    {
     "name": "stdout",
     "output_type": "stream",
     "text": [
      "None\n",
      "(1.414213562373095, 1595.9588713799812)\n",
      "(1.414213562373095, 2728.6096982173667)\n",
      "(1.414213562373095, 5329.21806026036)\n",
      "(1.414213562373095, 5706.600445586312)\n"
     ]
    },
    {
     "data": {
      "image/png": "[encoded data removed]",
      "text/plain": [
       "<Figure size 150x400 with 1 Axes>"
      ]
     },
     "metadata": {},
     "output_type": "display_data"
    }
   ],
   "source": [
    "plot_band(bands[2], \"band_example\", with_labels=False)"
   ]
  },
  {
   "cell_type": "code",
   "execution_count": null,
   "metadata": {},
   "outputs": [],
   "source": []
  }
 ],
 "metadata": {
  "kernelspec": {
   "display_name": "torch",
   "language": "python",
   "name": "python3"
  },
  "language_info": {
   "codemirror_mode": {
    "name": "ipython",
    "version": 3
   },
   "file_extension": ".py",
   "mimetype": "text/x-python",
   "name": "python",
   "nbconvert_exporter": "python",
   "pygments_lexer": "ipython3",
   "version": "3.12.4"
  }
 },
 "nbformat": 4,
 "nbformat_minor": 2
}
